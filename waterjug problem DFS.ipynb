{
 "cells": [
  {
   "cell_type": "markdown",
   "metadata": {},
   "source": [
    "## correct 5 & 6 rules"
   ]
  },
  {
   "cell_type": "code",
   "execution_count": 3,
   "metadata": {},
   "outputs": [
    {
     "name": "stdout",
     "output_type": "stream",
     "text": [
      "Solution Found\n",
      "(0, 0)\n",
      "(4, 0)\n",
      "(0, 3)\n",
      "(4, 3)\n",
      "(1, 3)\n",
      "(3, 0)\n",
      "(1, 0)\n",
      "(3, 3)\n",
      "(0, 1)\n",
      "(4, 2)\n"
     ]
    },
    {
     "data": {
      "text/plain": [
       "True"
      ]
     },
     "execution_count": 3,
     "metadata": {},
     "output_type": "execute_result"
    }
   ],
   "source": [
    "from collections import deque\n",
    "\n",
    "def waterJugProblem(capacity1, capacity2, goal):\n",
    "    queue = deque()\n",
    "    visited = set()\n",
    "\n",
    "    queue.append((0, 0))\n",
    "    visited.add((0, 0))\n",
    "\n",
    "    actions = []\n",
    "\n",
    "    while queue:\n",
    "        jug1, jug2 = queue.popleft()\n",
    "        actions.append((jug1, jug2))\n",
    "\n",
    "        # Check if target is achieved\n",
    "        if jug1 == goal or jug2 == goal:\n",
    "            print(\"Solution Found\")\n",
    "            for action in actions:\n",
    "                print(action)\n",
    "            return True\n",
    "\n",
    "        # Apply rules\n",
    "        rules = [\n",
    "           (capacity1, jug2), # 1: fill jug1 \n",
    "           (jug1, capacity2), # 2: full jug2 \n",
    "           (0, jug2), # 3: empty jug1 \n",
    "           (jug1, 0), # 4: empty jug2\n",
    "           #pour jug1 into jug2\n",
    "           (jug1 - min(jug1, capacity2 - jug2), jug2 + min(jug1, capacity2 - jug2)),\n",
    "            #Pour jug2 into jug1\n",
    "           (jug1 + min(jug2, capacity1 - jug1), jug2 - min(jug2, capacity1 - jug1))\n",
    "        ] \n",
    "\n",
    "           \n",
    "\n",
    "        for state in rules:\n",
    "            if state not in visited:\n",
    "                visited.add(state)\n",
    "                queue.append(state)\n",
    "\n",
    "    print(\"No Solution found\")\n",
    "    return False\n",
    "\n",
    "jug1Capacity = 4\n",
    "jug2Capacity = 3\n",
    "target = 2          \n",
    "\n",
    "waterJugProblem(jug1Capacity, jug2Capacity, target)"
   ]
  },
  {
   "cell_type": "markdown",
   "metadata": {},
   "source": [
    "## implement waterjug problem with DFS and print rules"
   ]
  },
  {
   "cell_type": "code",
   "execution_count": null,
   "metadata": {},
   "outputs": [
    {
     "name": "stdout",
     "output_type": "stream",
     "text": [
      "Solution Found\n",
      "(0, 0, 'Start')\n",
      "(4, 0, 'Fill Jug1')\n",
      "(4, 3, 'Fill Jug2')\n",
      "(0, 3, 'Empty Jug1')\n",
      "(3, 0, 'Pour Jug2 → Jug1')\n",
      "(3, 3, 'Fill Jug2')\n",
      "(4, 2, 'Pour Jug2 → Jug1')\n"
     ]
    }
   ],
   "source": [
    "def waterJugDFS(jug1, jug2, capacity1, capacity2, goal, visited, actions):\n",
    "    if jug1 == goal or jug2 == goal:\n",
    "        print(\"Solution Found\")\n",
    "        for step in actions:\n",
    "            print(step)\n",
    "        return True\n",
    "\n",
    "    if (jug1, jug2) in visited:\n",
    "        return False\n",
    "    \n",
    "    visited.add((jug1, jug2))  \n",
    "\n",
    "    possible_moves = [\n",
    "        (capacity1, jug2, \"Fill Jug1\"),  # Rule 1\n",
    "        (jug1, capacity2, \"Fill Jug2\"),  # Rule 2\n",
    "        (0, jug2, \"Empty Jug1\"),         # Rule 3\n",
    "        (jug1, 0, \"Empty Jug2\"),         # Rule 4\n",
    "        \n",
    "        # Rule 5: Pour Jug1 → Jug2 (without overflowing)\n",
    "        (jug1 - min(jug1, capacity2 - jug2), jug2 + min(jug1, capacity2 - jug2), \"Pour Jug1 → Jug2\"),\n",
    "        \n",
    "        # Rule 6: Pour Jug2 → Jug1 (without overflowing)\n",
    "        (jug1 + min(jug2, capacity1 - jug1), jug2 - min(jug2, capacity1 - jug1), \"Pour Jug2 → Jug1\")\n",
    "    ]\n",
    "\n",
    "    for new_jug1, new_jug2, rule in possible_moves:\n",
    "        actions.append((new_jug1, new_jug2, rule))  \n",
    "        if waterJugDFS(new_jug1, new_jug2, capacity1, capacity2, goal, visited, actions):\n",
    "            return True  \n",
    "        actions.pop()  \n",
    "\n",
    "    return False  \n",
    "\n",
    "\n",
    "def solveWaterJug(capacity1, capacity2, goal):\n",
    "    visited = set()\n",
    "    actions = [(0, 0, \"Start\")]  \n",
    "    if not waterJugDFS(0, 0, capacity1, capacity2, goal, visited, actions):\n",
    "        print(\"No Solution Found\")\n",
    "\n",
    "\n",
    "jug1Capacity = 4\n",
    "jug2Capacity = 3\n",
    "target = 2\n",
    "\n",
    "solveWaterJug(jug1Capacity, jug2Capacity,target)\n"
   ]
  },
  {
   "cell_type": "code",
   "execution_count": null,
   "metadata": {},
   "outputs": [],
   "source": []
  }
 ],
 "metadata": {
  "kernelspec": {
   "display_name": "Python 3",
   "language": "python",
   "name": "python3"
  },
  "language_info": {
   "codemirror_mode": {
    "name": "ipython",
    "version": 3
   },
   "file_extension": ".py",
   "mimetype": "text/x-python",
   "name": "python",
   "nbconvert_exporter": "python",
   "pygments_lexer": "ipython3",
   "version": "3.11.9"
  }
 },
 "nbformat": 4,
 "nbformat_minor": 2
}
